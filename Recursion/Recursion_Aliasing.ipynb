{
 "cells": [
  {
   "cell_type": "markdown",
   "metadata": {},
   "source": [
    "# Recursion"
   ]
  },
  {
   "cell_type": "markdown",
   "metadata": {},
   "source": [
    "---"
   ]
  },
  {
   "cell_type": "code",
   "execution_count": 88,
   "metadata": {},
   "outputs": [],
   "source": [
    "from typing import List, Any, Dict"
   ]
  },
  {
   "cell_type": "code",
   "execution_count": 2,
   "metadata": {},
   "outputs": [],
   "source": [
    "def sum_list(ls: List[int]) -> int:\n",
    "    if not isinstance(ls, list):\n",
    "        return ls\n",
    "    else:\n",
    "        return sum([sum_list(elem) for elem in ls])"
   ]
  },
  {
   "cell_type": "code",
   "execution_count": 3,
   "metadata": {},
   "outputs": [
    {
     "data": {
      "text/plain": [
       "6"
      ]
     },
     "execution_count": 3,
     "metadata": {},
     "output_type": "execute_result"
    }
   ],
   "source": [
    "sum_list([2,[[2]], [2]])"
   ]
  },
  {
   "cell_type": "markdown",
   "metadata": {},
   "source": [
    "---"
   ]
  },
  {
   "cell_type": "code",
   "execution_count": 13,
   "metadata": {},
   "outputs": [],
   "source": [
    "def flatten(ls: List[Any]) -> List[Any]:\n",
    "    new_list = []\n",
    "    for item in ls:\n",
    "        if not isinstance(item, list):\n",
    "            new_list.append(item)\n",
    "        else:\n",
    "            new_list.extend(flatten(item))\n",
    "    return new_list"
   ]
  },
  {
   "cell_type": "code",
   "execution_count": 14,
   "metadata": {},
   "outputs": [
    {
     "data": {
      "text/plain": [
       "[1, 2, 3, 4, 5, 6]"
      ]
     },
     "execution_count": 14,
     "metadata": {},
     "output_type": "execute_result"
    }
   ],
   "source": [
    "flatten([1,2,3,[4,5,6]])"
   ]
  },
  {
   "cell_type": "markdown",
   "metadata": {},
   "source": [
    "---"
   ]
  },
  {
   "cell_type": "code",
   "execution_count": 15,
   "metadata": {},
   "outputs": [],
   "source": [
    "def sum_list2(ls):\n",
    "    return sum([sum_list2(elem) if isinstance(elem, list) else elem for elem in ls])"
   ]
  },
  {
   "cell_type": "code",
   "execution_count": 16,
   "metadata": {},
   "outputs": [
    {
     "data": {
      "text/plain": [
       "21"
      ]
     },
     "execution_count": 16,
     "metadata": {},
     "output_type": "execute_result"
    }
   ],
   "source": [
    "sum_list2([1,2,3,[4,5,6]])"
   ]
  },
  {
   "cell_type": "code",
   "execution_count": 52,
   "metadata": {},
   "outputs": [],
   "source": [
    "def mult(a, b):\n",
    "    # Precondition: b > 0\n",
    "    if b == 1:\n",
    "        return a\n",
    "    else:\n",
    "        return a + mult(a, b-1)"
   ]
  },
  {
   "cell_type": "code",
   "execution_count": 57,
   "metadata": {},
   "outputs": [
    {
     "data": {
      "text/plain": [
       "-1200"
      ]
     },
     "execution_count": 57,
     "metadata": {},
     "output_type": "execute_result"
    }
   ],
   "source": [
    "mult(-3,400)"
   ]
  },
  {
   "cell_type": "code",
   "execution_count": 42,
   "metadata": {},
   "outputs": [],
   "source": [
    "def factorial(n):\n",
    "    if n == 0: # could also be n == 1 but then factorial(0) would cause RecursionDepthError\n",
    "        return 1\n",
    "    else:\n",
    "        return n * factorial(n-1)"
   ]
  },
  {
   "cell_type": "code",
   "execution_count": 109,
   "metadata": {},
   "outputs": [
    {
     "data": {
      "text/plain": [
       "295232799039604140847618609643520000000"
      ]
     },
     "execution_count": 109,
     "metadata": {},
     "output_type": "execute_result"
    }
   ],
   "source": [
    "factorial(34)"
   ]
  },
  {
   "cell_type": "code",
   "execution_count": 44,
   "metadata": {},
   "outputs": [
    {
     "data": {
      "text/plain": [
       "1"
      ]
     },
     "execution_count": 44,
     "metadata": {},
     "output_type": "execute_result"
    }
   ],
   "source": [
    "factorial(0)"
   ]
  },
  {
   "cell_type": "code",
   "execution_count": 45,
   "metadata": {},
   "outputs": [],
   "source": [
    "def factorial_iter(n):\n",
    "    prod = 1\n",
    "    for i in range(1, n+1):\n",
    "        prod *= i\n",
    "    return prod"
   ]
  },
  {
   "cell_type": "code",
   "execution_count": 46,
   "metadata": {},
   "outputs": [
    {
     "data": {
      "text/plain": [
       "120"
      ]
     },
     "execution_count": 46,
     "metadata": {},
     "output_type": "execute_result"
    }
   ],
   "source": [
    "factorial_iter(5)"
   ]
  },
  {
   "cell_type": "markdown",
   "metadata": {},
   "source": [
    "## Tower of Hanoi"
   ]
  },
  {
   "cell_type": "code",
   "execution_count": 58,
   "metadata": {},
   "outputs": [],
   "source": [
    "def move(f, to):\n",
    "    print(\"Move disc from {} to {}.\".format(f,t))"
   ]
  },
  {
   "cell_type": "code",
   "execution_count": 60,
   "metadata": {},
   "outputs": [
    {
     "name": "stdout",
     "output_type": "stream",
     "text": [
      "Move disc from A to C.\n"
     ]
    }
   ],
   "source": [
    "move(\"A\",\"C\")"
   ]
  },
  {
   "cell_type": "code",
   "execution_count": 61,
   "metadata": {},
   "outputs": [],
   "source": [
    "def moveVia(f, via, to):\n",
    "    move(f, via)\n",
    "    move(via, to)"
   ]
  },
  {
   "cell_type": "code",
   "execution_count": 63,
   "metadata": {},
   "outputs": [
    {
     "name": "stdout",
     "output_type": "stream",
     "text": [
      "Move disc from A to B.\n",
      "Move disc from B to C.\n"
     ]
    }
   ],
   "source": [
    "moveVia(\"A\",\"B\",\"C\")"
   ]
  },
  {
   "cell_type": "code",
   "execution_count": 66,
   "metadata": {},
   "outputs": [],
   "source": [
    "def hanoi(num_discs, f_pos, helper_pos, target_pos):\n",
    "    # Base Case\n",
    "    if num_discs == 0:\n",
    "        pass\n",
    "    # Recursive Step\n",
    "    else:\n",
    "        hanoi(num_discs-1, f_pos, target_pos, helper_pos)\n",
    "        move(f_pos, target_pos)\n",
    "        hanoi(num_discs-1, helper_pos, f_pos, target_pos)"
   ]
  },
  {
   "cell_type": "code",
   "execution_count": 67,
   "metadata": {},
   "outputs": [
    {
     "name": "stdout",
     "output_type": "stream",
     "text": [
      "Move disc from A to B.\n",
      "Move disc from A to C.\n",
      "Move disc from B to C.\n",
      "Move disc from A to B.\n",
      "Move disc from C to A.\n",
      "Move disc from C to B.\n",
      "Move disc from A to B.\n",
      "Move disc from A to C.\n",
      "Move disc from B to C.\n",
      "Move disc from B to A.\n",
      "Move disc from C to A.\n",
      "Move disc from B to C.\n",
      "Move disc from A to B.\n",
      "Move disc from A to C.\n",
      "Move disc from B to C.\n"
     ]
    }
   ],
   "source": [
    "hanoi(4,\"A\",\"B\",\"C\")"
   ]
  },
  {
   "cell_type": "markdown",
   "metadata": {},
   "source": [
    "### Method 2: MIT"
   ]
  },
  {
   "cell_type": "code",
   "execution_count": 73,
   "metadata": {},
   "outputs": [],
   "source": [
    "def printMove(fr, to):\n",
    "    print('Move from ' + str(fr) + ' to ' + str(to))\n",
    "def Towers(n, fr, to, spare):\n",
    "    if n == 1:\n",
    "        printMove(fr, to)\n",
    "    else:\n",
    "        Towers(n-1, fr, spare, to)\n",
    "        Towers(1, fr, to, spare)\n",
    "        Towers(n-1, spare, to, fr)"
   ]
  },
  {
   "cell_type": "code",
   "execution_count": 74,
   "metadata": {},
   "outputs": [
    {
     "name": "stdout",
     "output_type": "stream",
     "text": [
      "Move from A to B\n",
      "Move from A to C\n",
      "Move from B to C\n",
      "Move from A to B\n",
      "Move from C to A\n",
      "Move from C to B\n",
      "Move from A to B\n",
      "Move from A to C\n",
      "Move from B to C\n",
      "Move from B to A\n",
      "Move from C to A\n",
      "Move from B to C\n",
      "Move from A to B\n",
      "Move from A to C\n",
      "Move from B to C\n"
     ]
    }
   ],
   "source": [
    "Towers(4, \"A\",\"C\",\"B\")"
   ]
  },
  {
   "cell_type": "markdown",
   "metadata": {},
   "source": [
    "---"
   ]
  },
  {
   "cell_type": "markdown",
   "metadata": {},
   "source": [
    "## Fibonacci"
   ]
  },
  {
   "cell_type": "code",
   "execution_count": 138,
   "metadata": {},
   "outputs": [],
   "source": [
    "def fib(x):\n",
    "    \"\"\"assumes x as int >= 0\n",
    "    returns Fibonacci of x\"\"\"\n",
    "    \n",
    "    \"\"\"Very inefficient:\n",
    "    If i call fib(34) it takes 11 million + \n",
    "    recursive calls to get the answer\n",
    "    \"\"\"\n",
    "    if x == 0 or x == 1:\n",
    "        return 1\n",
    "    else:\n",
    "        return fib(x-1) + fib(x-2)"
   ]
  },
  {
   "cell_type": "code",
   "execution_count": 145,
   "metadata": {},
   "outputs": [
    {
     "data": {
      "text/plain": [
       "9227465"
      ]
     },
     "execution_count": 145,
     "metadata": {},
     "output_type": "execute_result"
    }
   ],
   "source": [
    "fib(34)"
   ]
  },
  {
   "cell_type": "code",
   "execution_count": 140,
   "metadata": {},
   "outputs": [],
   "source": [
    "def fib_efficient(x, d={1:1, 2:2}):\n",
    "    \"\"\"65 calls to calculate fib of 34.\n",
    "    Memoization\n",
    "    \"\"\"\n",
    "    if x in d:\n",
    "        return d[x]\n",
    "    else:\n",
    "        ans = fib_efficient(x-1, d) + \\\n",
    "              fib_efficient(x-2, d)\n",
    "        d[x] = ans\n",
    "        return ans"
   ]
  },
  {
   "cell_type": "code",
   "execution_count": 141,
   "metadata": {},
   "outputs": [
    {
     "data": {
      "text/plain": [
       "9227465"
      ]
     },
     "execution_count": 141,
     "metadata": {},
     "output_type": "execute_result"
    }
   ],
   "source": [
    "fib_efficient(34, d={1:1, 2:2})"
   ]
  },
  {
   "cell_type": "code",
   "execution_count": 142,
   "metadata": {},
   "outputs": [],
   "source": [
    "def fib_memo(n: int, seen: Dict[int, int]={1:1, 2:2}) -> int:\n",
    "    \"\"\" Return the <n>th fibonacci number reasonably quickly, \n",
    "    using a dictionary to remember previously computed fibonacci terms.\n",
    "    \"\"\"\n",
    "    if n not in seen:\n",
    "        seen[n] = (n if n < 2\n",
    "                   else fib_memo(n - 2, seen) + fib_memo(n - 1, seen))\n",
    "    return seen[n]"
   ]
  },
  {
   "cell_type": "code",
   "execution_count": 143,
   "metadata": {},
   "outputs": [
    {
     "data": {
      "text/plain": [
       "9227465"
      ]
     },
     "execution_count": 143,
     "metadata": {},
     "output_type": "execute_result"
    }
   ],
   "source": [
    "fib_memo(34, seen={1:1, 2:2})"
   ]
  },
  {
   "cell_type": "markdown",
   "metadata": {},
   "source": [
    "## Palindrome Recursively"
   ]
  },
  {
   "cell_type": "code",
   "execution_count": 78,
   "metadata": {},
   "outputs": [],
   "source": [
    "def isPalindrome(s: str) -> bool:\n",
    "    def toChars(s: str) -> str:\n",
    "        s = s.lower()\n",
    "        ans = ''\n",
    "        for c in s:\n",
    "            if c in 'abcdefghijklmnopqrstuvwxyz':\n",
    "                ans += c\n",
    "        return ans\n",
    "    \n",
    "    def isPal(s: str) -> bool:\n",
    "        if len(s) <= 1:\n",
    "            return True\n",
    "        else:\n",
    "            return s[0] == s[-1] and isPal(s[1:-1])\n",
    "    \n",
    "    return isPal(toChars(s))"
   ]
  },
  {
   "cell_type": "code",
   "execution_count": 81,
   "metadata": {},
   "outputs": [
    {
     "data": {
      "text/plain": [
       "(True, True, False)"
      ]
     },
     "execution_count": 81,
     "metadata": {},
     "output_type": "execute_result"
    }
   ],
   "source": [
    "isPalindrome('mom'), isPalindrome('ablewasiereisawelba'), isPalindrome('car')"
   ]
  },
  {
   "cell_type": "markdown",
   "metadata": {},
   "source": [
    "---"
   ]
  },
  {
   "cell_type": "markdown",
   "metadata": {},
   "source": [
    "## Aliasing"
   ]
  },
  {
   "cell_type": "code",
   "execution_count": null,
   "metadata": {},
   "outputs": [],
   "source": []
  }
 ],
 "metadata": {
  "kernelspec": {
   "display_name": "Python 3.7.0 64-bit ('csc148': conda)",
   "language": "python",
   "name": "python37064bitcsc148condac10deb16c96547d38d52914508a93fc6"
  },
  "language_info": {
   "codemirror_mode": {
    "name": "ipython",
    "version": 3
   },
   "file_extension": ".py",
   "mimetype": "text/x-python",
   "name": "python",
   "nbconvert_exporter": "python",
   "pygments_lexer": "ipython3",
   "version": "3.7.0"
  }
 },
 "nbformat": 4,
 "nbformat_minor": 2
}
