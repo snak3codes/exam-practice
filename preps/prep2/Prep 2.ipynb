{
 "cells": [
  {
   "cell_type": "markdown",
   "metadata": {},
   "source": [
    "## Prep 2"
   ]
  },
  {
   "cell_type": "code",
   "execution_count": 17,
   "metadata": {},
   "outputs": [],
   "source": [
    "\"\"\"Prep 2 Synthesize\n",
    "\n",
    "=== CSC148 Winter 2020 ===\n",
    "Department of Mathematical and Computational Sciences,\n",
    "University of Toronto Mississauga\n",
    "\n",
    "=== Module Description ===\n",
    "This module contains the documentation for a simple class. Your job is to\n",
    "implement the class below according to its docstring; note this includes\n",
    "both the *instance attributes* of the class and the *methods* we've documented.\n",
    "\n",
    "As usual, delete the TODO comments after you've completed each part.\n",
    "\"\"\"\n",
    "# Do not use any imports beyond this one (randint)!\n",
    "from random import randint\n",
    "\n",
    "\n",
    "class Spinner:\n",
    "    \"\"\"A spinner for a board game.\n",
    "\n",
    "    A spinner has a certain number of slots, numbered starting at 0 and\n",
    "    increasing by 1 each slot. For example, if the spinner has 6 slots,\n",
    "    they are numbered 0 through 5, inclusive.\n",
    "\n",
    "    A spinner also has an arrow that points to one of these slots.\n",
    "\n",
    "    === Attributes ===\n",
    "    slots:\n",
    "        The number of slots in this spinner.\n",
    "    position:\n",
    "        The slot number that the spinner's arrow is currently pointing to.\n",
    "\n",
    "    === Sample Usage ===\n",
    "\n",
    "    Creating a spinner:\n",
    "    >>> s = Spinner(8)\n",
    "    >>> s.position\n",
    "    0\n",
    "\n",
    "    Spinning the spinner:\n",
    "    >>> s.spin(4)\n",
    "    >>> s.position\n",
    "    4\n",
    "    >>> s.spin(2)\n",
    "    >>> s.position\n",
    "    6\n",
    "    >>> s.spin(2)\n",
    "    >>> s.position\n",
    "    0\n",
    "    \"\"\"\n",
    "    slots: int\n",
    "    position: int\n",
    "\n",
    "    def __init__(self, size: int) -> None:\n",
    "        \"\"\"Initialize a new spinner with <size> slots.\n",
    "\n",
    "        A spinner's position always starts at 0.\n",
    "        \"\"\"\n",
    "        # TODO: complete this method!\n",
    "        self.slots = size\n",
    "        self.position = 0\n",
    "\n",
    "    def spin(self, force: int) -> None:\n",
    "        \"\"\"Spin this spinner, advancing the arrow <force> slots.\n",
    "\n",
    "        The spinner wraps around once it reaches its maximum slot, starting\n",
    "        back at 0. See the class docstring for an example of this.\n",
    "\n",
    "        Precondition: force >= 0.\n",
    "\n",
    "        Hint: use the \"%\" operator to \"wrap around\" the spinner's position.\n",
    "        \"\"\"\n",
    "        # TODO: complete this method!\n",
    "        \n",
    "        self.position += force\n",
    "\n",
    "    def spin_randomly(self) -> None:\n",
    "        \"\"\"Spin this spinner randomly.\n",
    "\n",
    "        This modifies the spinner's arrow to point to a random slot on the\n",
    "        spinner. Each slot has an equal chance of being pointed to.\n",
    "\n",
    "        You MUST use randint (imported from random) for this method, to\n",
    "        choose a random slot.\n",
    "        \"\"\"\n",
    "        # TODO: complete this method!\n",
    "        pass"
   ]
  },
  {
   "cell_type": "code",
   "execution_count": 21,
   "metadata": {},
   "outputs": [],
   "source": [
    "s = Spinner(8)"
   ]
  },
  {
   "cell_type": "code",
   "execution_count": 22,
   "metadata": {},
   "outputs": [
    {
     "data": {
      "text/plain": [
       "0"
      ]
     },
     "execution_count": 22,
     "metadata": {},
     "output_type": "execute_result"
    }
   ],
   "source": [
    "s.position"
   ]
  },
  {
   "cell_type": "code",
   "execution_count": 23,
   "metadata": {},
   "outputs": [],
   "source": [
    "s.spin(4)"
   ]
  },
  {
   "cell_type": "code",
   "execution_count": 24,
   "metadata": {},
   "outputs": [
    {
     "data": {
      "text/plain": [
       "4"
      ]
     },
     "execution_count": 24,
     "metadata": {},
     "output_type": "execute_result"
    }
   ],
   "source": [
    "s.position"
   ]
  },
  {
   "cell_type": "code",
   "execution_count": 25,
   "metadata": {},
   "outputs": [],
   "source": [
    "s.spin(2)"
   ]
  },
  {
   "cell_type": "code",
   "execution_count": 26,
   "metadata": {},
   "outputs": [
    {
     "data": {
      "text/plain": [
       "6"
      ]
     },
     "execution_count": 26,
     "metadata": {},
     "output_type": "execute_result"
    }
   ],
   "source": [
    "s.position"
   ]
  },
  {
   "cell_type": "code",
   "execution_count": 28,
   "metadata": {},
   "outputs": [],
   "source": [
    "positions_list = [i for i in range(8)]"
   ]
  },
  {
   "cell_type": "code",
   "execution_count": 29,
   "metadata": {},
   "outputs": [
    {
     "data": {
      "text/plain": [
       "[0, 1, 2, 3, 4, 5, 6, 7]"
      ]
     },
     "execution_count": 29,
     "metadata": {},
     "output_type": "execute_result"
    }
   ],
   "source": [
    "positions_list"
   ]
  },
  {
   "cell_type": "code",
   "execution_count": 32,
   "metadata": {},
   "outputs": [],
   "source": [
    "first_item = positions_list[0]\n",
    "\n",
    "for i in range(1, len(positions_list)):\n",
    "    positions_list[i - 1] = positions_list[i]\n",
    "\n",
    "positions_list[-1] = first_item"
   ]
  },
  {
   "cell_type": "code",
   "execution_count": 33,
   "metadata": {},
   "outputs": [
    {
     "data": {
      "text/plain": [
       "[2, 3, 4, 5, 6, 7, 0, 1]"
      ]
     },
     "execution_count": 33,
     "metadata": {},
     "output_type": "execute_result"
    }
   ],
   "source": [
    "positions_list"
   ]
  },
  {
   "cell_type": "code",
   "execution_count": 34,
   "metadata": {},
   "outputs": [],
   "source": [
    "# # positions_list = [i for i in range(self.slots)]\n",
    "#         j = 0\n",
    "#         while j != force:\n",
    "#             first_item = positions_list[0]\n",
    "\n",
    "#             for i in range(1, len(positions_list)):\n",
    "#                 positions_list[i - 1] = positions_list[i]\n",
    "\n",
    "#             positions_list[-1] = first_item\n",
    "#             j += 1\n",
    "\n",
    "#         self.position += positions_list[0]"
   ]
  },
  {
   "cell_type": "code",
   "execution_count": 35,
   "metadata": {},
   "outputs": [],
   "source": [
    "# k = force\n",
    "#         # a = [i for i in range(self.slots)]\n",
    "#         # k = k % len(a)\n",
    "#         # b = a[k:] + a[:k]\n",
    "#         # self.position = b[0]"
   ]
  },
  {
   "cell_type": "code",
   "execution_count": null,
   "metadata": {},
   "outputs": [],
   "source": []
  }
 ],
 "metadata": {
  "kernelspec": {
   "display_name": "Python 3",
   "language": "python",
   "name": "python3"
  },
  "language_info": {
   "codemirror_mode": {
    "name": "ipython",
    "version": 3
   },
   "file_extension": ".py",
   "mimetype": "text/x-python",
   "name": "python",
   "nbconvert_exporter": "python",
   "pygments_lexer": "ipython3",
   "version": "3.7.0"
  }
 },
 "nbformat": 4,
 "nbformat_minor": 2
}
